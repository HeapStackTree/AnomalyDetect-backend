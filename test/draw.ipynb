{
 "cells": [
  {
   "cell_type": "code",
   "execution_count": 1,
   "metadata": {},
   "outputs": [],
   "source": [
    "import pandas as pd\n",
    "import matplotlib.pyplot as plt"
   ]
  },
  {
   "cell_type": "code",
   "execution_count": 3,
   "metadata": {},
   "outputs": [],
   "source": [
    "humidity = pd.read_csv('./2521_humidity.csv', index_col='time', usecols=['time', 'value'], encoding='utf16')\n",
    "temperature = pd.read_csv('./2521_temperature.csv', index_col='time', usecols=['time', 'value'], encoding='utf16')\n",
    "\n",
    "humidity.index = pd.to_datetime(humidity.index)\n",
    "temperature.index = pd.to_datetime(temperature.index)"
   ]
  },
  {
   "cell_type": "code",
   "execution_count": 1,
   "metadata": {},
   "outputs": [
    {
     "ename": "NameError",
     "evalue": "name 'plt' is not defined",
     "output_type": "error",
     "traceback": [
      "\u001b[1;31m---------------------------------------------------------------------------\u001b[0m",
      "\u001b[1;31mNameError\u001b[0m                                 Traceback (most recent call last)",
      "\u001b[1;32m<ipython-input-1-2266b98bb57b>\u001b[0m in \u001b[0;36m<module>\u001b[1;34m\u001b[0m\n\u001b[1;32m----> 1\u001b[1;33m \u001b[0mfig\u001b[0m\u001b[1;33m,\u001b[0m \u001b[0max\u001b[0m \u001b[1;33m=\u001b[0m \u001b[0mplt\u001b[0m\u001b[1;33m.\u001b[0m\u001b[0msubplots\u001b[0m\u001b[1;33m(\u001b[0m\u001b[1;36m2\u001b[0m\u001b[1;33m,\u001b[0m \u001b[1;36m1\u001b[0m\u001b[1;33m,\u001b[0m \u001b[0mfigsize\u001b[0m\u001b[1;33m=\u001b[0m\u001b[1;33m(\u001b[0m\u001b[1;36m8\u001b[0m\u001b[1;33m,\u001b[0m \u001b[1;36m6\u001b[0m\u001b[1;33m)\u001b[0m\u001b[1;33m)\u001b[0m\u001b[1;33m\u001b[0m\u001b[1;33m\u001b[0m\u001b[0m\n\u001b[0m\u001b[0;32m      2\u001b[0m \u001b[1;33m\u001b[0m\u001b[0m\n\u001b[0;32m      3\u001b[0m \u001b[0mlower1\u001b[0m\u001b[1;33m,\u001b[0m \u001b[0mupper1\u001b[0m \u001b[1;33m=\u001b[0m \u001b[1;36m45\u001b[0m\u001b[1;33m,\u001b[0m \u001b[1;36m85\u001b[0m\u001b[1;33m\u001b[0m\u001b[1;33m\u001b[0m\u001b[0m\n\u001b[0;32m      4\u001b[0m \u001b[1;33m\u001b[0m\u001b[0m\n\u001b[0;32m      5\u001b[0m \u001b[0mstart\u001b[0m \u001b[1;33m=\u001b[0m \u001b[1;36m7900\u001b[0m\u001b[1;33m\u001b[0m\u001b[1;33m\u001b[0m\u001b[0m\n",
      "\u001b[1;31mNameError\u001b[0m: name 'plt' is not defined"
     ]
    }
   ],
   "source": [
    "fig, ax = plt.subplots(2, 1, figsize=(8, 6))\n",
    "\n",
    "lower1, upper1 = 45, 90\n",
    "\n",
    "start = 7900\n",
    "end = 7920\n",
    "\n",
    "color1 = ['red' if s > upper1 or s < lower1 else 'blue' for s in humidity.iloc[start:end].value]\n",
    "ax[0].scatter(humidity.iloc[start:end].index, humidity.iloc[start:end].value, s=15, c=color1)\n",
    "ax[0].axhline(lower1, color='red')\n",
    "ax[0].axhline(upper1, color='red')\n",
    "\n",
    "lower2, upper2 = 10, 29.5\n",
    "color2 = ['red' if s > upper2 or s < lower2 else 'blue' for s in temperature.iloc[start:end].value]\n",
    "ax[1].scatter(temperature.iloc[start:end].index, temperature.iloc[start:end].value, s=15, c=color2)\n",
    "ax[1].axhline(lower2, color='red')\n",
    "ax[1].axhline(upper2, color='red')\n",
    "\n",
    "fig.tight_layout()"
   ]
  },
  {
   "cell_type": "code",
   "execution_count": null,
   "metadata": {},
   "outputs": [],
   "source": [
    "alert = False \n",
    "\n",
    "for  \n"
   ]
  }
 ],
 "metadata": {
  "interpreter": {
   "hash": "a327d6382053ebb6ff465b84c1aa5589cee973caaef7c9c3e26de320dbb2fc23"
  },
  "kernelspec": {
   "display_name": "Python 3.9.7 ('deep_learning')",
   "language": "python",
   "name": "python3"
  },
  "language_info": {
   "codemirror_mode": {
    "name": "ipython",
    "version": 3
   },
   "file_extension": ".py",
   "mimetype": "text/x-python",
   "name": "python",
   "nbconvert_exporter": "python",
   "pygments_lexer": "ipython3",
   "version": "3.8.5"
  },
  "orig_nbformat": 4
 },
 "nbformat": 4,
 "nbformat_minor": 2
}
